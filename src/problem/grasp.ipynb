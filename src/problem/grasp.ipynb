{
 "cells": [
  {
   "cell_type": "markdown",
   "metadata": {},
   "source": [
    "## Program Trace Optimisation: GRASP\n",
    "\n"
   ]
  },
  {
   "cell_type": "code",
   "execution_count": 1,
   "metadata": {},
   "outputs": [],
   "source": [
    "from PTO import random, solve"
   ]
  },
  {
   "cell_type": "markdown",
   "metadata": {},
   "source": [
    "### Generic GRASP generator\n"
   ]
  },
  {
   "cell_type": "code",
   "execution_count": 2,
   "metadata": {},
   "outputs": [],
   "source": [
    "alpha = 0.5 # completely greedy: 0.0, completely random: 1.0 \n",
    "\n",
    "def randsol():\n",
    "  solution = empty_solution()\n",
    "  while(not complete(solution)):\n",
    "    #print(solution)\n",
    "    features = allowed_features(solution)\n",
    "    costs = {feat:cost_feature(solution, feat) for feat in features}\n",
    "    min_cost, max_cost = min(costs.values()), max(costs.values())\n",
    "    RCL = [feat for feat in features if costs[feat] <= min_cost + alpha * (max_cost - min_cost)]\n",
    "    #print(RCL)\n",
    "    selected_feature = random.choice(RCL) # only source of randomness\n",
    "    solution = add_feature(solution, selected_feature)\n",
    "  return solution "
   ]
  },
  {
   "cell_type": "markdown",
   "metadata": {},
   "source": [
    "### Specific GRASP functions for the SORTING problem"
   ]
  },
  {
   "cell_type": "code",
   "execution_count": 3,
   "metadata": {},
   "outputs": [],
   "source": [
    "n=10\n",
    "\n",
    "def empty_solution():\n",
    "  return []\n",
    "\n",
    "def complete(solution):\n",
    "  return len(solution)==n\n",
    "\n",
    "def allowed_features(solution):\n",
    "  all_items = range(1,n+1)\n",
    "  remaining_items = [item for item in all_items if item not in solution]\n",
    "  return remaining_items\n",
    "\n",
    "def cost_feature(solution, feat):\n",
    "  last_item = solution[-1] if len(solution)>0 else 0\n",
    "  dist = abs(feat - last_item)\n",
    "  return dist\n",
    "\n",
    "def add_feature(solution, feat):\n",
    "  sol = solution[:] + [feat]\n",
    "  return sol"
   ]
  },
  {
   "cell_type": "markdown",
   "metadata": {},
   "source": [
    "### Fitness function "
   ]
  },
  {
   "cell_type": "code",
   "execution_count": 4,
   "metadata": {},
   "outputs": [],
   "source": [
    "def fitness(solution): # cost to minimise, best solution has cost 0\n",
    "  return -sum([abs(solution[pos]-(pos+1)) for pos in range(n)])"
   ]
  },
  {
   "cell_type": "markdown",
   "metadata": {},
   "source": [
    "### Testing our generator and fitness"
   ]
  },
  {
   "cell_type": "code",
   "execution_count": 10,
   "metadata": {},
   "outputs": [
    {
     "name": "stdout",
     "output_type": "stream",
     "text": [
      "Random solution: fitness 0; [1, 2, 3, 4, 5, 6, 7, 8, 9, 10]\n",
      "Random solution: fitness 0; [1, 2, 3, 4, 5, 6, 7, 8, 9, 10]\n",
      "Random solution: fitness 0; [1, 2, 3, 4, 5, 6, 7, 8, 9, 10]\n",
      "Random solution: fitness 0; [1, 2, 3, 4, 5, 6, 7, 8, 9, 10]\n",
      "Random solution: fitness 0; [1, 2, 3, 4, 5, 6, 7, 8, 9, 10]\n",
      "===\n",
      "Random solution: fitness -40; [1, 6, 8, 10, 7, 9, 4, 3, 2, 5]\n",
      "Random solution: fitness -16; [5, 2, 6, 4, 1, 3, 8, 7, 9, 10]\n",
      "Random solution: fitness -24; [5, 7, 4, 6, 3, 2, 1, 8, 9, 10]\n",
      "Random solution: fitness -18; [1, 2, 4, 3, 7, 9, 8, 10, 6, 5]\n",
      "Random solution: fitness -20; [1, 6, 4, 5, 3, 7, 8, 10, 9, 2]\n",
      "===\n",
      "Random solution: fitness -30; [3, 5, 6, 7, 2, 8, 1, 9, 10, 4]\n",
      "Random solution: fitness -44; [7, 9, 6, 10, 3, 4, 5, 1, 2, 8]\n",
      "Random solution: fitness -34; [5, 9, 6, 3, 2, 7, 1, 10, 8, 4]\n",
      "Random solution: fitness -26; [2, 10, 1, 5, 6, 3, 8, 9, 7, 4]\n",
      "Random solution: fitness -36; [4, 10, 8, 1, 7, 6, 2, 3, 9, 5]\n"
     ]
    }
   ],
   "source": [
    "alpha = 0.0 # completely greedy\n",
    "\n",
    "for i in range(5):\n",
    "    x = randsol()\n",
    "    print(\"Random solution: fitness %d; %s\" % (fitness(x), str(x)))\n",
    "    \n",
    "print(\"===\")    \n",
    "    \n",
    "alpha = 0.5 # half way\n",
    "\n",
    "for i in range(5):\n",
    "    x = randsol()\n",
    "    print(\"Random solution: fitness %d; %s\" % (fitness(x), str(x)))\n",
    "    \n",
    "print(\"===\")    \n",
    "    \n",
    "alpha = 1.0 # completely random\n",
    "\n",
    "for i in range(5):\n",
    "    x = randsol()\n",
    "    print(\"Random solution: fitness %d; %s\" % (fitness(x), str(x)))"
   ]
  },
  {
   "cell_type": "markdown",
   "metadata": {},
   "source": [
    "### Optimization\n",
    "\n"
   ]
  },
  {
   "cell_type": "code",
   "execution_count": 11,
   "metadata": {},
   "outputs": [
    {
     "name": "stdout",
     "output_type": "stream",
     "text": [
      "0 [1, 2, 3, 4, 5, 6, 7, 8, 9, 10]\n",
      "-10 [2, 1, 4, 3, 5, 7, 6, 9, 10, 8]\n",
      "-20 [5, 6, 1, 4, 3, 7, 2, 9, 8, 10]\n"
     ]
    }
   ],
   "source": [
    "alpha = 0.0 # completely greedy\n",
    "\n",
    "ind, fit = solve(randsol, fitness, solver=\"MGA\")\n",
    "print(fit, ind)\n",
    "\n",
    "alpha = 0.5 # half way\n",
    "\n",
    "ind, fit = solve(randsol, fitness, solver=\"MGA\")\n",
    "print(fit, ind)\n",
    "\n",
    "alpha = 1.0 # completely random\n",
    "\n",
    "ind, fit = solve(randsol, fitness, solver=\"MGA\")\n",
    "print(fit, ind)"
   ]
  },
  {
   "cell_type": "markdown",
   "metadata": {},
   "source": [
    "### Hyperparameters\n",
    "\n"
   ]
  },
  {
   "cell_type": "code",
   "execution_count": 12,
   "metadata": {},
   "outputs": [
    {
     "name": "stdout",
     "output_type": "stream",
     "text": [
      "0 [1, 2, 3, 4, 5, 6, 7, 8, 9, 10]\n",
      "0 [1, 2, 3, 4, 5, 6, 7, 8, 9, 10]\n",
      "0 [1, 2, 3, 4, 5, 6, 7, 8, 9, 10]\n",
      "0 [1, 2, 3, 4, 5, 6, 7, 8, 9, 10]\n",
      "===\n",
      "-24 [4, 1, 3, 5, 8, 9, 7, 10, 6, 2]\n",
      "-6 [1, 2, 4, 6, 5, 3, 7, 8, 9, 10]\n",
      "-16 [1, 2, 5, 4, 7, 9, 8, 6, 3, 10]\n",
      "-8 [1, 2, 6, 4, 3, 5, 7, 9, 8, 10]\n",
      "===\n",
      "-22 [7, 1, 3, 4, 5, 9, 8, 6, 10, 2]\n",
      "-14 [1, 5, 3, 4, 9, 6, 7, 8, 2, 10]\n",
      "-26 [2, 6, 3, 7, 10, 1, 4, 8, 5, 9]\n",
      "-18 [5, 3, 1, 4, 2, 8, 7, 9, 10, 6]\n"
     ]
    }
   ],
   "source": [
    "alpha = 0.0 # completely greedy\n",
    "\n",
    "ind, fit = solve(randsol, fitness, solver=\"MGA\", budget=15)\n",
    "print(fit, ind)\n",
    "ind, fit = solve(randsol, fitness, solver=\"MGA\", budget=150)\n",
    "print(fit, ind)\n",
    "ind, fit = solve(randsol, fitness, solver=\"MGA\", effort=1)\n",
    "print(fit, ind)\n",
    "ind, fit = solve(randsol, fitness, solver=\"MGA\", effort=2)\n",
    "print(fit, ind)\n",
    "\n",
    "print(\"===\") \n",
    "\n",
    "alpha = 0.5 # half way\n",
    "\n",
    "ind, fit = solve(randsol, fitness, solver=\"MGA\", budget=15)\n",
    "print(fit, ind)\n",
    "ind, fit = solve(randsol, fitness, solver=\"MGA\", budget=150)\n",
    "print(fit, ind)\n",
    "ind, fit = solve(randsol, fitness, solver=\"MGA\", effort=1)\n",
    "print(fit, ind)\n",
    "ind, fit = solve(randsol, fitness, solver=\"MGA\", effort=2)\n",
    "print(fit, ind)\n",
    "\n",
    "print(\"===\") \n",
    "\n",
    "alpha = 1.0 # completely random\n",
    "\n",
    "ind, fit = solve(randsol, fitness, solver=\"MGA\", budget=15)\n",
    "print(fit, ind)\n",
    "ind, fit = solve(randsol, fitness, solver=\"MGA\", budget=150)\n",
    "print(fit, ind)\n",
    "ind, fit = solve(randsol, fitness, solver=\"MGA\", effort=1)\n",
    "print(fit, ind)\n",
    "ind, fit = solve(randsol, fitness, solver=\"MGA\", effort=2)\n",
    "print(fit, ind)\n"
   ]
  },
  {
   "cell_type": "markdown",
   "metadata": {},
   "source": [
    "### Specific GRASP functions for the TSP problem"
   ]
  },
  {
   "cell_type": "code",
   "execution_count": 13,
   "metadata": {},
   "outputs": [],
   "source": [
    "#alpha = 0.7\n",
    "\n",
    "n = 10\n",
    "#dist = [[0, 20, 42, 35], [20, 0, 30, 34], [42, 30, 0, 12], [35, 34, 12, 0]]\n",
    "dist = [[random.random() for i in range(n)] for j in range(n)]\n",
    "#print(dist)\n",
    "\n",
    "def empty_solution():\n",
    "  return [0] # start tour always from first city \n",
    "\n",
    "def complete(solution):\n",
    "  return len(solution)==n\n",
    "\n",
    "def allowed_features(solution):\n",
    "  all_items = range(n)\n",
    "  remaining_items = [item for item in all_items if item not in solution]\n",
    "  return remaining_items\n",
    "\n",
    "def cost_feature(solution, feat):\n",
    "  last_city = solution[-1]\n",
    "  d = dist[last_city][feat]\n",
    "  return d\n",
    "\n",
    "def add_feature(solution, feat):\n",
    "  sol = solution[:] + [feat]\n",
    "  return sol\n",
    "\n",
    " "
   ]
  },
  {
   "cell_type": "markdown",
   "metadata": {},
   "source": [
    "### Fitness function "
   ]
  },
  {
   "cell_type": "code",
   "execution_count": 14,
   "metadata": {},
   "outputs": [],
   "source": [
    "def fitness(solution):\n",
    "  return -(sum([dist[solution[pos]][solution[pos+1]] for pos in range(n-1)]) + dist[solution[0]][solution[-1]])\n"
   ]
  },
  {
   "cell_type": "markdown",
   "metadata": {},
   "source": [
    "### Testing our generator and fitness"
   ]
  },
  {
   "cell_type": "code",
   "execution_count": 15,
   "metadata": {},
   "outputs": [
    {
     "name": "stdout",
     "output_type": "stream",
     "text": [
      "Random solution: fitness -1.694958; [0, 1, 2, 7, 5, 6, 9, 8, 4, 3]\n",
      "Random solution: fitness -1.694958; [0, 1, 2, 7, 5, 6, 9, 8, 4, 3]\n",
      "Random solution: fitness -1.694958; [0, 1, 2, 7, 5, 6, 9, 8, 4, 3]\n",
      "Random solution: fitness -1.694958; [0, 1, 2, 7, 5, 6, 9, 8, 4, 3]\n",
      "Random solution: fitness -1.694958; [0, 1, 2, 7, 5, 6, 9, 8, 4, 3]\n",
      "===\n",
      "Random solution: fitness -2.338417; [0, 2, 1, 3, 9, 8, 4, 5, 6, 7]\n",
      "Random solution: fitness -3.327320; [0, 2, 6, 5, 9, 8, 1, 3, 7, 4]\n",
      "Random solution: fitness -2.646425; [0, 8, 4, 5, 2, 1, 3, 9, 7, 6]\n",
      "Random solution: fitness -2.628328; [0, 2, 1, 5, 6, 9, 3, 7, 8, 4]\n",
      "Random solution: fitness -1.806272; [0, 1, 5, 2, 7, 8, 4, 3, 6, 9]\n",
      "===\n",
      "Random solution: fitness -5.535782; [0, 4, 1, 8, 2, 7, 5, 9, 6, 3]\n",
      "Random solution: fitness -5.111718; [0, 9, 2, 3, 6, 7, 8, 5, 1, 4]\n",
      "Random solution: fitness -5.684460; [0, 5, 8, 6, 2, 1, 3, 9, 4, 7]\n",
      "Random solution: fitness -3.985622; [0, 3, 1, 9, 7, 8, 5, 2, 4, 6]\n",
      "Random solution: fitness -5.653088; [0, 6, 8, 9, 2, 4, 1, 5, 3, 7]\n"
     ]
    }
   ],
   "source": [
    "\n",
    "alpha = 0.0 # completely greedy\n",
    "\n",
    "for i in range(5):\n",
    "    x = randsol()\n",
    "    print(\"Random solution: fitness %f; %s\" % (fitness(x), str(x)))\n",
    "    \n",
    "print(\"===\")    \n",
    "    \n",
    "alpha = 0.5 # half way\n",
    "\n",
    "for i in range(5):\n",
    "    x = randsol()\n",
    "    print(\"Random solution: fitness %f; %s\" % (fitness(x), str(x)))\n",
    "    \n",
    "print(\"===\")    \n",
    "    \n",
    "alpha = 1.0 # completely random\n",
    "\n",
    "for i in range(5):\n",
    "    x = randsol()\n",
    "    print(\"Random solution: fitness %f; %s\" % (fitness(x), str(x)))\n",
    "\n",
    "\n",
    "\n"
   ]
  },
  {
   "cell_type": "markdown",
   "metadata": {},
   "source": [
    "### Optimization"
   ]
  },
  {
   "cell_type": "code",
   "execution_count": 16,
   "metadata": {},
   "outputs": [
    {
     "name": "stdout",
     "output_type": "stream",
     "text": [
      "-1.6949582045291296 [0, 1, 2, 7, 5, 6, 9, 8, 4, 3]\n",
      "-1.5443376870172019 [0, 4, 5, 2, 7, 8, 1, 3, 6, 9]\n",
      "-3.7610326554401095 [0, 5, 6, 2, 7, 3, 1, 9, 8, 4]\n"
     ]
    }
   ],
   "source": [
    "\n",
    "alpha = 0.0 # completely greedy\n",
    "\n",
    "ind, fit = solve(randsol, fitness, solver=\"MGA\")\n",
    "print(fit, ind)\n",
    "\n",
    "alpha = 0.5 # half way\n",
    "\n",
    "ind, fit = solve(randsol, fitness, solver=\"MGA\")\n",
    "print(fit, ind)\n",
    "\n",
    "alpha = 1.0 # completely random\n",
    "\n",
    "ind, fit = solve(randsol, fitness, solver=\"MGA\")\n",
    "print(fit, ind)"
   ]
  },
  {
   "cell_type": "markdown",
   "metadata": {},
   "source": [
    "### Hyperparameters"
   ]
  },
  {
   "cell_type": "code",
   "execution_count": 17,
   "metadata": {},
   "outputs": [
    {
     "name": "stdout",
     "output_type": "stream",
     "text": [
      "-1.6949582045291296 [0, 1, 2, 7, 5, 6, 9, 8, 4, 3]\n",
      "-1.6949582045291296 [0, 1, 2, 7, 5, 6, 9, 8, 4, 3]\n",
      "-1.6949582045291296 [0, 1, 2, 7, 5, 6, 9, 8, 4, 3]\n",
      "-1.6949582045291296 [0, 1, 2, 7, 5, 6, 9, 8, 4, 3]\n",
      "===\n",
      "-1.1256705197547467 [0, 1, 3, 6, 9, 8, 4, 5, 2, 7]\n",
      "-1.3973004302891132 [0, 4, 3, 1, 2, 7, 5, 6, 9, 8]\n",
      "-1.7739336187009784 [0, 8, 4, 3, 1, 2, 7, 5, 6, 9]\n",
      "-1.5443376870172019 [0, 4, 5, 2, 7, 8, 1, 3, 6, 9]\n",
      "===\n",
      "-1.9745777755934433 [0, 6, 9, 8, 4, 5, 2, 1, 3, 7]\n",
      "-2.381668198484886 [0, 4, 5, 6, 9, 2, 1, 3, 7, 8]\n",
      "-3.368739678520399 [0, 7, 2, 4, 1, 3, 5, 6, 9, 8]\n",
      "-2.8602392684199174 [0, 6, 9, 1, 3, 8, 5, 2, 7, 4]\n"
     ]
    }
   ],
   "source": [
    "\n",
    "alpha = 0.0 # completely greedy\n",
    "\n",
    "ind, fit = solve(randsol, fitness, solver=\"MGA\", budget=15)\n",
    "print(fit, ind)\n",
    "ind, fit = solve(randsol, fitness, solver=\"MGA\", budget=150)\n",
    "print(fit, ind)\n",
    "ind, fit = solve(randsol, fitness, solver=\"MGA\", effort=1)\n",
    "print(fit, ind)\n",
    "ind, fit = solve(randsol, fitness, solver=\"MGA\", effort=2)\n",
    "print(fit, ind)\n",
    "\n",
    "print(\"===\") \n",
    "\n",
    "alpha = 0.5 # half way\n",
    "\n",
    "ind, fit = solve(randsol, fitness, solver=\"MGA\", budget=15)\n",
    "print(fit, ind)\n",
    "ind, fit = solve(randsol, fitness, solver=\"MGA\", budget=150)\n",
    "print(fit, ind)\n",
    "ind, fit = solve(randsol, fitness, solver=\"MGA\", effort=1)\n",
    "print(fit, ind)\n",
    "ind, fit = solve(randsol, fitness, solver=\"MGA\", effort=2)\n",
    "print(fit, ind)\n",
    "\n",
    "print(\"===\") \n",
    "\n",
    "alpha = 1.0 # completely random\n",
    "\n",
    "ind, fit = solve(randsol, fitness, solver=\"MGA\", budget=15)\n",
    "print(fit, ind)\n",
    "ind, fit = solve(randsol, fitness, solver=\"MGA\", budget=150)\n",
    "print(fit, ind)\n",
    "ind, fit = solve(randsol, fitness, solver=\"MGA\", effort=1)\n",
    "print(fit, ind)\n",
    "ind, fit = solve(randsol, fitness, solver=\"MGA\", effort=2)\n",
    "print(fit, ind)\n"
   ]
  },
  {
   "cell_type": "markdown",
   "metadata": {},
   "source": [
    "### Specific GRASP functions for the KNAPSACK problem"
   ]
  },
  {
   "cell_type": "code",
   "execution_count": 18,
   "metadata": {},
   "outputs": [
    {
     "name": "stdout",
     "output_type": "stream",
     "text": [
      "[37, 16, 9, 83, 17, 39, 93, 49, 63, 99, 40, 25, 5, 81, 16, 18, 34, 28, 70, 8]\n",
      "[1, 2, 3, 4, 5, 6, 7, 8, 9, 10, 11, 12, 13, 14, 15, 16, 17, 18, 19, 20]\n"
     ]
    }
   ],
   "source": [
    "#n = 3\n",
    "#val = [60, 100, 120] # values \n",
    "#wt = [10, 20, 30] # weights \n",
    "#W = 50 # capacity\n",
    "\n",
    "n = 20\n",
    "val = [random.randint(1,100) for i in range(n)]\n",
    "wt = list(range(1,n+1))\n",
    "W = 2*n\n",
    "print(val)\n",
    "print(wt)\n",
    "\n",
    "\n",
    "def empty_solution():\n",
    "  return []  \n",
    "\n",
    "def complete(solution):\n",
    "  weight = sum([wt[item] for item in solution])\n",
    "  min_weight_left = min([wt[item] for item in range(n) if item not in solution])\n",
    "  return len(solution)==n or (weight + min_weight_left) > W\n",
    "\n",
    "def allowed_features(solution):\n",
    "  all_items = range(n)\n",
    "  remaining_items = [item for item in all_items if item not in solution]\n",
    "  weight = sum([wt[item] for item in solution])\n",
    "  fitting_items = [item for item in remaining_items if (weight + wt[item]) <= W]\n",
    "  return fitting_items\n",
    "\n",
    "def cost_feature(solution, feat):\n",
    "  return -val[feat] # heuristic 1 (-val as this is a cost)\n",
    "  #return -val[feat]/wt[feat] # heuristic 2\n",
    "\n",
    "def add_feature(solution, feat):\n",
    "  sol = solution[:] + [feat]\n",
    "  return sol\n",
    "\n",
    "\n"
   ]
  },
  {
   "cell_type": "markdown",
   "metadata": {},
   "source": [
    "### Fitness function "
   ]
  },
  {
   "cell_type": "code",
   "execution_count": 19,
   "metadata": {},
   "outputs": [],
   "source": [
    "def fitness(solution):\n",
    "  return sum([val[item] for item in solution])\n"
   ]
  },
  {
   "cell_type": "markdown",
   "metadata": {},
   "source": [
    "### Testing our generator and fitness"
   ]
  },
  {
   "cell_type": "code",
   "execution_count": 20,
   "metadata": {},
   "outputs": [
    {
     "name": "stdout",
     "output_type": "stream",
     "text": [
      "Random solution: fitness 409.000000; [9, 6, 3, 13, 0, 1]\n",
      "Random solution: fitness 409.000000; [9, 6, 3, 13, 0, 1]\n",
      "Random solution: fitness 409.000000; [9, 6, 3, 13, 0, 1]\n",
      "Random solution: fitness 409.000000; [9, 6, 3, 13, 0, 1]\n",
      "Random solution: fitness 409.000000; [9, 6, 3, 13, 0, 1]\n",
      "===\n",
      "Random solution: fitness 345.000000; [6, 9, 18, 3]\n",
      "Random solution: fitness 244.000000; [13, 18, 6]\n",
      "Random solution: fitness 365.000000; [13, 9, 7, 3, 0, 1]\n",
      "Random solution: fitness 424.000000; [9, 8, 6, 7, 3, 0]\n",
      "Random solution: fitness 409.000000; [13, 9, 6, 3, 0, 1]\n",
      "===\n",
      "Random solution: fitness 175.000000; [15, 11, 3, 7]\n",
      "Random solution: fitness 247.000000; [2, 19, 4, 6, 3, 0]\n",
      "Random solution: fitness 234.000000; [0, 18, 2, 8, 1, 5]\n",
      "Random solution: fitness 337.000000; [9, 6, 3, 2, 0, 14]\n",
      "Random solution: fitness 124.000000; [10, 17, 5, 4]\n"
     ]
    }
   ],
   "source": [
    "\n",
    "alpha = 0.0 # completely greedy\n",
    "\n",
    "for i in range(5):\n",
    "    x = randsol()\n",
    "    print(\"Random solution: fitness %f; %s\" % (fitness(x), str(x)))\n",
    "    \n",
    "print(\"===\")    \n",
    "    \n",
    "alpha = 0.5 # half way\n",
    "\n",
    "for i in range(5):\n",
    "    x = randsol()\n",
    "    print(\"Random solution: fitness %f; %s\" % (fitness(x), str(x)))\n",
    "    \n",
    "print(\"===\")    \n",
    "    \n",
    "alpha = 1.0 # completely random\n",
    "\n",
    "for i in range(5):\n",
    "    x = randsol()\n",
    "    print(\"Random solution: fitness %f; %s\" % (fitness(x), str(x)))\n",
    "\n",
    "\n",
    "\n"
   ]
  },
  {
   "cell_type": "markdown",
   "metadata": {},
   "source": [
    "### Optimization"
   ]
  },
  {
   "cell_type": "code",
   "execution_count": 21,
   "metadata": {},
   "outputs": [
    {
     "name": "stdout",
     "output_type": "stream",
     "text": [
      "409 [9, 6, 3, 13, 0, 1]\n",
      "424 [9, 6, 8, 7, 3, 0]\n",
      "365 [1, 13, 9, 5, 6, 0]\n"
     ]
    }
   ],
   "source": [
    "\n",
    "alpha = 0.0 # completely greedy\n",
    "\n",
    "ind, fit = solve(randsol, fitness, solver=\"MGA\")\n",
    "print(fit, ind)\n",
    "\n",
    "alpha = 0.5 # half way\n",
    "\n",
    "ind, fit = solve(randsol, fitness, solver=\"MGA\")\n",
    "print(fit, ind)\n",
    "\n",
    "alpha = 1.0 # completely random\n",
    "\n",
    "ind, fit = solve(randsol, fitness, solver=\"MGA\")\n",
    "print(fit, ind)"
   ]
  },
  {
   "cell_type": "markdown",
   "metadata": {},
   "source": [
    "### Hyperparameters"
   ]
  },
  {
   "cell_type": "code",
   "execution_count": 22,
   "metadata": {},
   "outputs": [
    {
     "name": "stdout",
     "output_type": "stream",
     "text": [
      "409 [9, 6, 3, 13, 0, 1]\n",
      "409 [9, 6, 3, 13, 0, 1]\n",
      "409 [9, 6, 3, 13, 0, 1]\n",
      "409 [9, 6, 3, 13, 0, 1]\n",
      "===\n",
      "430 [8, 6, 9, 3, 5, 0, 1]\n",
      "430 [8, 3, 9, 6, 5, 0, 1]\n",
      "424 [3, 9, 7, 8, 6, 0]\n",
      "430 [8, 3, 9, 6, 5, 0, 1]\n",
      "===\n",
      "350 [7, 5, 6, 9, 1, 4, 0]\n",
      "389 [8, 6, 3, 5, 1, 7, 2, 0]\n",
      "321 [6, 2, 9, 5, 13]\n",
      "335 [13, 2, 9, 8, 3]\n"
     ]
    }
   ],
   "source": [
    "\n",
    "alpha = 0.0 # completely greedy\n",
    "\n",
    "ind, fit = solve(randsol, fitness, solver=\"MGA\", budget=15)\n",
    "print(fit, ind)\n",
    "ind, fit = solve(randsol, fitness, solver=\"MGA\", budget=150)\n",
    "print(fit, ind)\n",
    "ind, fit = solve(randsol, fitness, solver=\"MGA\", effort=1)\n",
    "print(fit, ind)\n",
    "ind, fit = solve(randsol, fitness, solver=\"MGA\", effort=2)\n",
    "print(fit, ind)\n",
    "\n",
    "print(\"===\") \n",
    "\n",
    "alpha = 0.5 # half way\n",
    "\n",
    "ind, fit = solve(randsol, fitness, solver=\"MGA\", budget=15)\n",
    "print(fit, ind)\n",
    "ind, fit = solve(randsol, fitness, solver=\"MGA\", budget=150)\n",
    "print(fit, ind)\n",
    "ind, fit = solve(randsol, fitness, solver=\"MGA\", effort=1)\n",
    "print(fit, ind)\n",
    "ind, fit = solve(randsol, fitness, solver=\"MGA\", effort=2)\n",
    "print(fit, ind)\n",
    "\n",
    "print(\"===\") \n",
    "\n",
    "alpha = 1.0 # completely random\n",
    "\n",
    "ind, fit = solve(randsol, fitness, solver=\"MGA\", budget=15)\n",
    "print(fit, ind)\n",
    "ind, fit = solve(randsol, fitness, solver=\"MGA\", budget=150)\n",
    "print(fit, ind)\n",
    "ind, fit = solve(randsol, fitness, solver=\"MGA\", effort=1)\n",
    "print(fit, ind)\n",
    "ind, fit = solve(randsol, fitness, solver=\"MGA\", effort=2)\n",
    "print(fit, ind)\n"
   ]
  },
  {
   "cell_type": "markdown",
   "metadata": {},
   "source": [
    "### Specific GRASP functions for the JSSP problem"
   ]
  },
  {
   "cell_type": "code",
   "execution_count": 23,
   "metadata": {},
   "outputs": [
    {
     "name": "stdout",
     "output_type": "stream",
     "text": [
      "[[(2, 30), (0, 50), (1, 30), (3, 30), (4, 30)], [(3, 20), (5, 40), (0, 40), (1, 30)], [(3, 50), (4, 20), (0, 40), (2, 20), (5, 40)], [(0, 40), (1, 40)]]\n"
     ]
    }
   ],
   "source": [
    "# 3 jobs, 3 machines\n",
    "\n",
    "problem = [[(0,3), (1,2), (2,2)],\n",
    "           [(0,2), (2,1), (1,4)],\n",
    "           [(1,4), (2,3)]]\n",
    "\n",
    "# Each sub-list is a job (a sequence of operations).\n",
    "# Each pair gives the machine the operation has to be processed on, and the time it takes.\n",
    "\n",
    "def randprob(n, m): # n jobs on m machines\n",
    "    prob = []\n",
    "    for i in range(n):\n",
    "        nmachines = random.randrange(1, m+1)\n",
    "        machines = random.sample(range(m), nmachines)\n",
    "        job = [(machine, (1 + random.randrange(1,5))*10)\n",
    "               for machine in machines]\n",
    "        prob.append(job)\n",
    "    return prob\n",
    "\n",
    "problem = randprob(4, 6)\n",
    "print(problem)\n",
    "\n",
    "def empty_solution():\n",
    "    # Global variables keep track of the schedule under construction\n",
    "    global jobs, machines, term_mac, term_job\n",
    "    jobs = [list(job) for job in problem]\n",
    "    machines = {} # dictionary of machines\n",
    "    term_mac = {} # termination times on machines\n",
    "    term_job = {} # termination times of jobs\n",
    "    \n",
    "    return {}\n",
    "\n",
    "def complete(solution):\n",
    "    #print(solution)\n",
    "    return all(job == [] for job in jobs)\n",
    "\n",
    "def allowed_features(solution):\n",
    "    job_inds = [ i for i in range(len(jobs)) if jobs[i] != [] ]\n",
    "    #print(job_inds)\n",
    "    return job_inds\n",
    "\n",
    "def cost_feature(solution, feat):\n",
    "    makespan = max([solution[mac][-1][2] for mac in solution]) if solution != {} else 0\n",
    "\n",
    "    op = jobs[feat][0]\n",
    "    if ((feat not in term_job) or (op[0] not in term_mac)):\n",
    "        term_op = op[1]\n",
    "    else:\n",
    "        term_op = max(term_job[feat],term_mac[op[0]])+op[1]\n",
    "\n",
    "    #print(term_op - makespan)\n",
    "    return term_op - makespan\n",
    "\n",
    "def add_feature(solution, feat):\n",
    "    op, jobs[feat] = jobs[feat][0], jobs[feat][1:]\n",
    "\n",
    "    if (feat not in term_job):\n",
    "        term_job[feat] = 0 # initialise dictionary\n",
    "    if (op[0] not in term_mac):\n",
    "        term_mac[op[0]] = 0 # initialise dictionary\n",
    "\n",
    "    term_op = max(term_job[feat],term_mac[op[0]])+op[1]\n",
    "    term_job[feat]=term_op\n",
    "    term_mac[op[0]]=term_op\n",
    "\n",
    "    #machines = solution.copy()\n",
    "    if op[0] not in machines: # if machine of current operation not in dictionary\n",
    "        machines[op[0]] = [(feat, op[0], term_op)] # for each op: (job, mac, term)\n",
    "    else:\n",
    "        machines[op[0]].append((feat, op[0], term_op))\n",
    "\n",
    "    return machines\n",
    "\n"
   ]
  },
  {
   "cell_type": "markdown",
   "metadata": {},
   "source": [
    "### Fitness function"
   ]
  },
  {
   "cell_type": "code",
   "execution_count": 24,
   "metadata": {},
   "outputs": [],
   "source": [
    "def fitness(solution): # makespan: maximum of termination times on machines\n",
    "    # PTO always maximises, but we want small makespan, so use -max\n",
    "    return -max([solution[mac][-1][2] for mac in solution])\n"
   ]
  },
  {
   "cell_type": "markdown",
   "metadata": {},
   "source": [
    "### Testing our generator and fitness"
   ]
  },
  {
   "cell_type": "code",
   "execution_count": 25,
   "metadata": {},
   "outputs": [
    {
     "name": "stdout",
     "output_type": "stream",
     "text": [
      "Random solution: fitness -200.000000; {3: [(1, 3, 20), (2, 3, 70), (0, 3, 150)], 2: [(0, 2, 30), (2, 2, 150)], 0: [(3, 0, 40), (0, 0, 90), (2, 0, 130), (1, 0, 170)], 1: [(3, 1, 80), (0, 1, 120), (1, 1, 200)], 5: [(1, 5, 60), (2, 5, 190)], 4: [(2, 4, 90), (0, 4, 180)]}\n",
      "Random solution: fitness -200.000000; {3: [(1, 3, 20), (2, 3, 70), (0, 3, 150)], 2: [(0, 2, 30), (2, 2, 150)], 0: [(3, 0, 40), (0, 0, 90), (2, 0, 130), (1, 0, 170)], 5: [(1, 5, 60), (2, 5, 190)], 1: [(3, 1, 80), (0, 1, 120), (1, 1, 200)], 4: [(2, 4, 90), (0, 4, 180)]}\n",
      "Random solution: fitness -320.000000; {3: [(1, 3, 20), (2, 3, 70), (0, 3, 290)], 2: [(0, 2, 30), (2, 2, 200)], 5: [(1, 5, 60), (2, 5, 240)], 0: [(1, 0, 100), (3, 0, 140), (2, 0, 180), (0, 0, 230)], 1: [(1, 1, 130), (3, 1, 180), (0, 1, 260)], 4: [(2, 4, 90), (0, 4, 320)]}\n",
      "Random solution: fitness -200.000000; {3: [(1, 3, 20), (2, 3, 70), (0, 3, 150)], 2: [(0, 2, 30), (2, 2, 150)], 0: [(3, 0, 40), (0, 0, 90), (2, 0, 130), (1, 0, 170)], 1: [(3, 1, 80), (0, 1, 120), (1, 1, 200)], 5: [(1, 5, 60), (2, 5, 190)], 4: [(2, 4, 90), (0, 4, 180)]}\n",
      "Random solution: fitness -230.000000; {3: [(1, 3, 20), (2, 3, 70), (0, 3, 150)], 2: [(0, 2, 30), (2, 2, 190)], 0: [(3, 0, 40), (0, 0, 90), (1, 0, 130), (2, 0, 170)], 1: [(3, 1, 80), (0, 1, 120), (1, 1, 160)], 5: [(1, 5, 60), (2, 5, 230)], 4: [(2, 4, 90), (0, 4, 180)]}\n",
      "===\n",
      "Random solution: fitness -320.000000; {2: [(0, 2, 30), (2, 2, 200)], 3: [(1, 3, 20), (2, 3, 70), (0, 3, 290)], 5: [(1, 5, 60), (2, 5, 240)], 0: [(1, 0, 100), (3, 0, 140), (2, 0, 180), (0, 0, 230)], 1: [(1, 1, 130), (3, 1, 180), (0, 1, 260)], 4: [(2, 4, 90), (0, 4, 320)]}\n",
      "Random solution: fitness -280.000000; {2: [(0, 2, 30), (2, 2, 160)], 3: [(1, 3, 20), (2, 3, 70), (0, 3, 250)], 0: [(3, 0, 40), (1, 0, 100), (2, 0, 140), (0, 0, 190)], 1: [(3, 1, 80), (1, 1, 130), (0, 1, 220)], 5: [(1, 5, 60), (2, 5, 200)], 4: [(2, 4, 90), (0, 4, 280)]}\n",
      "Random solution: fitness -200.000000; {3: [(1, 3, 20), (2, 3, 70), (0, 3, 150)], 2: [(0, 2, 30), (2, 2, 150)], 0: [(3, 0, 40), (0, 0, 90), (2, 0, 130), (1, 0, 170)], 1: [(3, 1, 80), (0, 1, 120), (1, 1, 200)], 5: [(1, 5, 60), (2, 5, 190)], 4: [(2, 4, 90), (0, 4, 180)]}\n",
      "Random solution: fitness -230.000000; {3: [(1, 3, 20), (2, 3, 70), (0, 3, 150)], 2: [(0, 2, 30), (2, 2, 190)], 5: [(1, 5, 60), (2, 5, 230)], 0: [(3, 0, 40), (0, 0, 90), (1, 0, 130), (2, 0, 170)], 1: [(3, 1, 80), (0, 1, 120), (1, 1, 160)], 4: [(2, 4, 90), (0, 4, 180)]}\n",
      "Random solution: fitness -280.000000; {2: [(0, 2, 30), (2, 2, 160)], 3: [(1, 3, 20), (2, 3, 70), (0, 3, 250)], 0: [(3, 0, 40), (1, 0, 100), (2, 0, 140), (0, 0, 190)], 5: [(1, 5, 60), (2, 5, 200)], 1: [(3, 1, 80), (1, 1, 130), (0, 1, 220)], 4: [(2, 4, 90), (0, 4, 280)]}\n",
      "===\n",
      "Random solution: fitness -200.000000; {3: [(2, 3, 50), (1, 3, 70), (0, 3, 150)], 2: [(0, 2, 30), (2, 2, 150)], 4: [(2, 4, 70), (0, 4, 180)], 0: [(3, 0, 40), (0, 0, 90), (2, 0, 130), (1, 0, 170)], 1: [(3, 1, 80), (0, 1, 120), (1, 1, 200)], 5: [(1, 5, 110), (2, 5, 190)]}\n",
      "Random solution: fitness -230.000000; {2: [(0, 2, 30), (2, 2, 190)], 3: [(1, 3, 20), (2, 3, 70), (0, 3, 150)], 0: [(3, 0, 40), (0, 0, 90), (1, 0, 130), (2, 0, 170)], 5: [(1, 5, 60), (2, 5, 230)], 4: [(2, 4, 90), (0, 4, 180)], 1: [(3, 1, 80), (0, 1, 120), (1, 1, 160)]}\n",
      "Random solution: fitness -300.000000; {0: [(3, 0, 40), (0, 0, 90), (2, 0, 130), (1, 0, 270)], 2: [(0, 2, 30), (2, 2, 150)], 3: [(2, 3, 50), (0, 3, 150), (1, 3, 170)], 4: [(2, 4, 70), (0, 4, 180)], 1: [(0, 1, 120), (3, 1, 160), (1, 1, 300)], 5: [(2, 5, 190), (1, 5, 230)]}\n",
      "Random solution: fitness -260.000000; {3: [(1, 3, 20), (2, 3, 70), (0, 3, 140)], 2: [(0, 2, 30), (2, 2, 220)], 0: [(0, 0, 80), (3, 0, 120), (1, 0, 160), (2, 0, 200)], 5: [(1, 5, 60), (2, 5, 260)], 1: [(0, 1, 110), (1, 1, 190), (3, 1, 230)], 4: [(2, 4, 90), (0, 4, 170)]}\n",
      "Random solution: fitness -290.000000; {2: [(0, 2, 30), (2, 2, 140)], 3: [(2, 3, 50), (1, 3, 70), (0, 3, 260)], 4: [(2, 4, 70), (0, 4, 290)], 0: [(0, 0, 80), (2, 0, 120), (3, 0, 160), (1, 0, 200)], 1: [(3, 1, 200), (0, 1, 230), (1, 1, 260)], 5: [(1, 5, 110), (2, 5, 180)]}\n"
     ]
    }
   ],
   "source": [
    "\n",
    "alpha = 0.0 # completely greedy\n",
    "\n",
    "for i in range(5):\n",
    "    x = randsol()\n",
    "    print(\"Random solution: fitness %f; %s\" % (fitness(x), str(x)))\n",
    "    \n",
    "print(\"===\")    \n",
    "    \n",
    "alpha = 0.5 # half way\n",
    "\n",
    "for i in range(5):\n",
    "    x = randsol()\n",
    "    print(\"Random solution: fitness %f; %s\" % (fitness(x), str(x)))\n",
    "    \n",
    "print(\"===\")    \n",
    "    \n",
    "alpha = 1.0 # completely random\n",
    "\n",
    "for i in range(5):\n",
    "    x = randsol()\n",
    "    print(\"Random solution: fitness %f; %s\" % (fitness(x), str(x)))\n",
    "\n",
    "\n",
    "\n"
   ]
  },
  {
   "cell_type": "markdown",
   "metadata": {},
   "source": [
    "### Optimization"
   ]
  },
  {
   "cell_type": "code",
   "execution_count": 26,
   "metadata": {},
   "outputs": [
    {
     "name": "stdout",
     "output_type": "stream",
     "text": [
      "-200 {3: [(1, 3, 20), (2, 3, 70), (0, 3, 150)], 2: [(0, 2, 30), (2, 2, 150)], 0: [(3, 0, 40), (0, 0, 90), (2, 0, 130), (1, 0, 170)], 5: [(1, 5, 60), (2, 5, 190)], 1: [(3, 1, 80), (0, 1, 120), (1, 1, 200)], 4: [(2, 4, 90), (0, 4, 180)]}\n",
      "-200 {3: [(1, 3, 20), (2, 3, 70), (0, 3, 150)], 5: [(1, 5, 60), (2, 5, 190)], 0: [(3, 0, 40), (0, 0, 90), (2, 0, 130), (1, 0, 170)], 1: [(3, 1, 80), (0, 1, 120), (1, 1, 200)], 4: [(2, 4, 90), (0, 4, 180)], 2: [(0, 2, 30), (2, 2, 150)]}\n",
      "-200 {3: [(1, 3, 20), (2, 3, 70), (0, 3, 150)], 0: [(3, 0, 40), (0, 0, 90), (2, 0, 130), (1, 0, 170)], 2: [(0, 2, 30), (2, 2, 150)], 1: [(3, 1, 80), (0, 1, 120), (1, 1, 200)], 4: [(2, 4, 90), (0, 4, 180)], 5: [(1, 5, 60), (2, 5, 190)]}\n"
     ]
    }
   ],
   "source": [
    "\n",
    "alpha = 0.0 # completely greedy\n",
    "\n",
    "ind, fit = solve(randsol, fitness, solver=\"MGA\")\n",
    "print(fit, ind)\n",
    "\n",
    "alpha = 0.5 # half way\n",
    "\n",
    "ind, fit = solve(randsol, fitness, solver=\"MGA\")\n",
    "print(fit, ind)\n",
    "\n",
    "alpha = 1.0 # completely random\n",
    "\n",
    "ind, fit = solve(randsol, fitness, solver=\"MGA\")\n",
    "print(fit, ind)"
   ]
  },
  {
   "cell_type": "markdown",
   "metadata": {},
   "source": [
    "### Hyperparameters"
   ]
  },
  {
   "cell_type": "code",
   "execution_count": 27,
   "metadata": {},
   "outputs": [
    {
     "name": "stdout",
     "output_type": "stream",
     "text": [
      "-200 {3: [(1, 3, 20), (2, 3, 70), (0, 3, 150)], 2: [(0, 2, 30), (2, 2, 150)], 0: [(3, 0, 40), (0, 0, 90), (2, 0, 130), (1, 0, 170)], 5: [(1, 5, 60), (2, 5, 190)], 1: [(3, 1, 80), (0, 1, 120), (1, 1, 200)], 4: [(2, 4, 90), (0, 4, 180)]}\n",
      "-200 {3: [(1, 3, 20), (2, 3, 70), (0, 3, 150)], 2: [(0, 2, 30), (2, 2, 150)], 0: [(3, 0, 40), (0, 0, 90), (2, 0, 130), (1, 0, 170)], 1: [(3, 1, 80), (0, 1, 120), (1, 1, 200)], 5: [(1, 5, 60), (2, 5, 190)], 4: [(2, 4, 90), (0, 4, 180)]}\n",
      "-200 {3: [(1, 3, 20), (2, 3, 70), (0, 3, 150)], 2: [(0, 2, 30), (2, 2, 150)], 5: [(1, 5, 60), (2, 5, 190)], 0: [(3, 0, 40), (0, 0, 90), (2, 0, 130), (1, 0, 170)], 1: [(3, 1, 80), (0, 1, 120), (1, 1, 200)], 4: [(2, 4, 90), (0, 4, 180)]}\n",
      "-200 {3: [(1, 3, 20), (2, 3, 70), (0, 3, 150)], 2: [(0, 2, 30), (2, 2, 150)], 5: [(1, 5, 60), (2, 5, 190)], 0: [(3, 0, 40), (0, 0, 90), (2, 0, 130), (1, 0, 170)], 1: [(3, 1, 80), (0, 1, 120), (1, 1, 200)], 4: [(2, 4, 90), (0, 4, 180)]}\n",
      "===\n",
      "-200 {3: [(1, 3, 20), (2, 3, 70), (0, 3, 150)], 2: [(0, 2, 30), (2, 2, 150)], 5: [(1, 5, 60), (2, 5, 190)], 0: [(3, 0, 40), (0, 0, 90), (2, 0, 130), (1, 0, 170)], 4: [(2, 4, 90), (0, 4, 180)], 1: [(3, 1, 80), (0, 1, 120), (1, 1, 200)]}\n",
      "-200 {3: [(1, 3, 20), (2, 3, 70), (0, 3, 150)], 2: [(0, 2, 30), (2, 2, 150)], 5: [(1, 5, 60), (2, 5, 190)], 0: [(3, 0, 40), (0, 0, 90), (2, 0, 130), (1, 0, 170)], 1: [(3, 1, 80), (0, 1, 120), (1, 1, 200)], 4: [(2, 4, 90), (0, 4, 180)]}\n",
      "-200 {3: [(1, 3, 20), (2, 3, 70), (0, 3, 150)], 2: [(0, 2, 30), (2, 2, 150)], 0: [(3, 0, 40), (0, 0, 90), (2, 0, 130), (1, 0, 170)], 1: [(3, 1, 80), (0, 1, 120), (1, 1, 200)], 4: [(2, 4, 90), (0, 4, 180)], 5: [(1, 5, 60), (2, 5, 190)]}\n",
      "-200 {2: [(0, 2, 30), (2, 2, 150)], 3: [(1, 3, 20), (2, 3, 70), (0, 3, 150)], 0: [(3, 0, 40), (0, 0, 90), (2, 0, 130), (1, 0, 170)], 5: [(1, 5, 60), (2, 5, 190)], 1: [(3, 1, 80), (0, 1, 120), (1, 1, 200)], 4: [(2, 4, 90), (0, 4, 180)]}\n",
      "===\n",
      "-200 {0: [(3, 0, 40), (0, 0, 90), (2, 0, 130), (1, 0, 170)], 2: [(0, 2, 30), (2, 2, 150)], 3: [(2, 3, 50), (1, 3, 70), (0, 3, 150)], 1: [(3, 1, 80), (0, 1, 120), (1, 1, 200)], 4: [(2, 4, 70), (0, 4, 180)], 5: [(1, 5, 110), (2, 5, 190)]}\n",
      "-200 {3: [(2, 3, 50), (1, 3, 70), (0, 3, 150)], 4: [(2, 4, 70), (0, 4, 180)], 2: [(0, 2, 30), (2, 2, 150)], 0: [(3, 0, 40), (0, 0, 90), (2, 0, 130), (1, 0, 170)], 1: [(3, 1, 80), (0, 1, 120), (1, 1, 200)], 5: [(1, 5, 110), (2, 5, 190)]}\n",
      "-200 {3: [(1, 3, 20), (2, 3, 70), (0, 3, 150)], 0: [(3, 0, 40), (0, 0, 90), (2, 0, 130), (1, 0, 170)], 5: [(1, 5, 60), (2, 5, 190)], 2: [(0, 2, 30), (2, 2, 150)], 4: [(2, 4, 90), (0, 4, 180)], 1: [(3, 1, 80), (0, 1, 120), (1, 1, 200)]}\n",
      "-200 {3: [(1, 3, 20), (2, 3, 70), (0, 3, 150)], 0: [(3, 0, 40), (0, 0, 90), (2, 0, 130), (1, 0, 170)], 2: [(0, 2, 30), (2, 2, 150)], 1: [(3, 1, 80), (0, 1, 120), (1, 1, 200)], 5: [(1, 5, 60), (2, 5, 190)], 4: [(2, 4, 90), (0, 4, 180)]}\n"
     ]
    }
   ],
   "source": [
    "\n",
    "alpha = 0.0 # completely greedy\n",
    "\n",
    "ind, fit = solve(randsol, fitness, solver=\"MGA\", budget=15)\n",
    "print(fit, ind)\n",
    "ind, fit = solve(randsol, fitness, solver=\"MGA\", budget=150)\n",
    "print(fit, ind)\n",
    "ind, fit = solve(randsol, fitness, solver=\"MGA\", effort=1)\n",
    "print(fit, ind)\n",
    "ind, fit = solve(randsol, fitness, solver=\"MGA\", effort=2)\n",
    "print(fit, ind)\n",
    "\n",
    "print(\"===\") \n",
    "\n",
    "alpha = 0.5 # half way\n",
    "\n",
    "ind, fit = solve(randsol, fitness, solver=\"MGA\", budget=15)\n",
    "print(fit, ind)\n",
    "ind, fit = solve(randsol, fitness, solver=\"MGA\", budget=150)\n",
    "print(fit, ind)\n",
    "ind, fit = solve(randsol, fitness, solver=\"MGA\", effort=1)\n",
    "print(fit, ind)\n",
    "ind, fit = solve(randsol, fitness, solver=\"MGA\", effort=2)\n",
    "print(fit, ind)\n",
    "\n",
    "print(\"===\") \n",
    "\n",
    "alpha = 1.0 # completely random\n",
    "\n",
    "ind, fit = solve(randsol, fitness, solver=\"MGA\", budget=15)\n",
    "print(fit, ind)\n",
    "ind, fit = solve(randsol, fitness, solver=\"MGA\", budget=150)\n",
    "print(fit, ind)\n",
    "ind, fit = solve(randsol, fitness, solver=\"MGA\", effort=1)\n",
    "print(fit, ind)\n",
    "ind, fit = solve(randsol, fitness, solver=\"MGA\", effort=2)\n",
    "print(fit, ind)\n"
   ]
  },
  {
   "cell_type": "code",
   "execution_count": null,
   "metadata": {
    "collapsed": true,
    "jupyter": {
     "outputs_hidden": true
    }
   },
   "outputs": [],
   "source": []
  }
 ],
 "metadata": {
  "kernelspec": {
   "display_name": "Python 3",
   "language": "python",
   "name": "python3"
  },
  "language_info": {
   "codemirror_mode": {
    "name": "ipython",
    "version": 3
   },
   "file_extension": ".py",
   "mimetype": "text/x-python",
   "name": "python",
   "nbconvert_exporter": "python",
   "pygments_lexer": "ipython3",
   "version": "3.8.5"
  }
 },
 "nbformat": 4,
 "nbformat_minor": 4
}
