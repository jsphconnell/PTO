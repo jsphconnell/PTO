{
 "cells": [
  {
   "cell_type": "markdown",
   "metadata": {},
   "source": [
    "## Program Trace Optimisation: Introduction\n",
    "\n",
    "This notebook demonstrates the simplest possible use of PTO.\n",
    "\n",
    "1. Define a fitness function.\n",
    "2. Define a generator, which calls (directly or indirectly) random functions. We import `random` from `PTO`, which hooks into the functions of the standard library `random` module.\n",
    "3. Run a `solve` function, imported from `PTO`."
   ]
  },
  {
   "cell_type": "code",
   "execution_count": 4,
   "metadata": {},
   "outputs": [],
   "source": [
    "from PTO import random, solve"
   ]
  },
  {
   "cell_type": "markdown",
   "metadata": {},
   "source": [
    "### Onemax\n",
    "\n",
    "*Onemax* is a standard sanity-check test problem for genetic algorithms. Given a problem size `n`, the search space is bitstrings of size `n` and the goal is to find the string of `1`, repeated `n` times."
   ]
  },
  {
   "cell_type": "markdown",
   "metadata": {},
   "source": [
    "### Defining a fitness function\n",
    "\n",
    "Our solvers *maximise*, so fitness is just `sum`."
   ]
  },
  {
   "cell_type": "code",
   "execution_count": 5,
   "metadata": {},
   "outputs": [],
   "source": [
    "n=10\n",
    "target = list(range(n))\n",
    "def fitness(x):\n",
    "    return n-sum(x[i] != target[i] for i in range(n))"
   ]
  },
  {
   "cell_type": "markdown",
   "metadata": {},
   "source": [
    "### Defining a generator\n",
    "\n",
    "Our generator must generate bitstrings of size `n`. To keep things simple, we'll fix `n` at 10."
   ]
  },
  {
   "cell_type": "code",
   "execution_count": 6,
   "metadata": {},
   "outputs": [],
   "source": [
    "def randsol():\n",
    "    return random.sample(range(n), n)"
   ]
  },
  {
   "cell_type": "markdown",
   "metadata": {},
   "source": [
    "### Testing our generator and fitness"
   ]
  },
  {
   "cell_type": "code",
   "execution_count": 7,
   "metadata": {},
   "outputs": [
    {
     "name": "stdout",
     "output_type": "stream",
     "text": [
      "Random solution: fitness 0; [5, 7, 6, 0, 1, 2, 4, 3, 9, 8]\n",
      "Random solution: fitness 1; [7, 1, 8, 4, 6, 2, 9, 5, 0, 3]\n",
      "Random solution: fitness 2; [0, 6, 8, 7, 9, 5, 3, 2, 1, 4]\n",
      "Random solution: fitness 2; [4, 9, 2, 7, 0, 6, 1, 5, 8, 3]\n",
      "Random solution: fitness 0; [3, 7, 1, 4, 5, 8, 9, 2, 0, 6]\n"
     ]
    }
   ],
   "source": [
    "for i in range(5):\n",
    "    x = randsol()\n",
    "    print(\"Random solution: fitness %d; %s\" % (fitness(x), str(x)))"
   ]
  },
  {
   "cell_type": "markdown",
   "metadata": {},
   "source": [
    "### Optimization\n",
    "\n",
    "We are ready to use the `solve` function. We must pass in the generator and fitness function, and the solver to be used. Options for this include \"EA\" (evolutionary algorithm), \"HC\" (hill-climbing), and \"RS\" (random search). The return value will be the best individual and its fitness."
   ]
  },
  {
   "cell_type": "code",
   "execution_count": 8,
   "metadata": {},
   "outputs": [
    {
     "name": "stdout",
     "output_type": "stream",
     "text": [
      "5 [0, 1, 7, 6, 4, 2, 5, 3, 8, 9]\n"
     ]
    }
   ],
   "source": [
    "ind, fit = solve(randsol, fitness, solver=\"MGA\")\n",
    "print(fit, ind)"
   ]
  },
  {
   "cell_type": "markdown",
   "metadata": {},
   "source": [
    "### Hyperparameters\n",
    "\n",
    "What about all the other hyperparameters we would expect to pass to an EA? The philosophy of PTO is to hide these, though power users can alter them if needed. \n",
    "\n",
    "However, PTO does expose a few user-friendly parameters. Other than the *choice* of solver and generator already mentioned, the main hyperparameters are the search *effort*, which sets the budget of fitness evaluations indirectly (suitable for a hands-off approach to solving problems), and the *budget* itself, which sets it directly (suitable for experimental comparison with non-PTO methods). Below, we demonstrate their use with a hill-climbing solver (HC), a Microbial Genetic Algorithm solver (MGA), an Evolutionary Algorithm solver (EA) and a random search solver (RS). A larger value for *budget*, or for *effort*, gets a better result."
   ]
  },
  {
   "cell_type": "code",
   "execution_count": 9,
   "metadata": {},
   "outputs": [
    {
     "name": "stdout",
     "output_type": "stream",
     "text": [
      "HC\n",
      "2 [4, 0, 2, 8, 6, 5, 1, 3, 9, 7]\n",
      "8 [0, 1, 7, 3, 4, 5, 6, 2, 8, 9]\n",
      "3 [9, 1, 7, 2, 4, 6, 0, 3, 8, 5]\n",
      "8 [0, 1, 2, 3, 4, 7, 6, 5, 8, 9]\n",
      "\n",
      "\n",
      "MGA\n",
      "3 [4, 6, 5, 3, 0, 7, 2, 1, 8, 9]\n",
      "7 [0, 1, 2, 3, 7, 5, 6, 8, 4, 9]\n",
      "4 [1, 3, 2, 4, 0, 9, 6, 7, 8, 5]\n",
      "4 [9, 1, 5, 6, 4, 0, 3, 7, 8, 2]\n",
      "\n",
      "\n",
      "EA\n",
      "2 [4, 9, 6, 1, 3, 7, 5, 0, 8, 9]\n",
      "5 [7, 1, 3, 4, 7, 5, 6, 2, 8, 9]\n",
      "2 [1, 9, 5, 8, 3, 4, 6, 7, 2, 0]\n",
      "4 [0, 4, 2, 6, 4, 5, 9, 1, 0, 8]\n",
      "\n",
      "\n",
      "RS\n",
      "4 [4, 1, 2, 7, 3, 6, 0, 5, 8, 9]\n",
      "5 [5, 0, 3, 1, 4, 2, 6, 7, 8, 9]\n",
      "4 [0, 1, 2, 8, 3, 7, 6, 4, 9, 5]\n",
      "4 [3, 8, 2, 9, 0, 5, 6, 7, 1, 4]\n"
     ]
    }
   ],
   "source": [
    "print(\"HC\")\n",
    "ind, fit = solve(randsol, fitness, solver=\"HC\", budget=15)\n",
    "print(fit, ind)\n",
    "ind, fit = solve(randsol, fitness, solver=\"HC\", budget=150)\n",
    "print(fit, ind)\n",
    "ind, fit = solve(randsol, fitness, solver=\"HC\", effort=1)\n",
    "print(fit, ind)\n",
    "ind, fit = solve(randsol, fitness, solver=\"HC\", effort=2)\n",
    "print(fit, ind)\n",
    "\n",
    "\n",
    "print(\"\\n\")\n",
    "print(\"MGA\")\n",
    "ind, fit = solve(randsol, fitness, solver=\"MGA\", budget=15)\n",
    "print(fit, ind)\n",
    "ind, fit = solve(randsol, fitness, solver=\"MGA\", budget=150)\n",
    "print(fit, ind)\n",
    "ind, fit = solve(randsol, fitness, solver=\"MGA\", effort=1)\n",
    "print(fit, ind)\n",
    "ind, fit = solve(randsol, fitness, solver=\"MGA\", effort=2)\n",
    "print(fit, ind)\n",
    "\n",
    "print(\"\\n\")\n",
    "print(\"EA\")\n",
    "ind, fit = solve(randsol, fitness, solver=\"EA\", budget=15)\n",
    "print(fit, ind)\n",
    "ind, fit = solve(randsol, fitness, solver=\"EA\", budget=150)\n",
    "print(fit, ind)\n",
    "ind, fit = solve(randsol, fitness, solver=\"EA\", effort=1)\n",
    "print(fit, ind)\n",
    "ind, fit = solve(randsol, fitness, solver=\"EA\", effort=2)\n",
    "print(fit, ind)\n",
    "\n",
    "print(\"\\n\")\n",
    "print(\"RS\")\n",
    "ind, fit = solve(randsol, fitness, solver=\"RS\", budget=15)\n",
    "print(fit, ind)\n",
    "ind, fit = solve(randsol, fitness, solver=\"RS\", budget=150)\n",
    "print(fit, ind)\n",
    "ind, fit = solve(randsol, fitness, solver=\"RS\", effort=1)\n",
    "print(fit, ind)\n",
    "ind, fit = solve(randsol, fitness, solver=\"RS\", effort=2)\n",
    "print(fit, ind)"
   ]
  },
  {
   "cell_type": "markdown",
   "metadata": {},
   "source": [
    "### Conclusions\n",
    "\n",
    "We have seen how simple it is to approach a simple problem: `from PTO import solve, random`, write a solution generator `randsol()` which calls `random` functions, write a fitness function `fitness(x)`, and call `solve(randsol, fitness)`. We have then seen how to use `solve` to optimise the problem with no further user work required. We have also seen methods for controlling the amount of search effort. In later examples, we'll see how to approach other problem types, and some machinery for experimental analysis."
   ]
  },
  {
   "cell_type": "code",
   "execution_count": null,
   "metadata": {
    "collapsed": true,
    "jupyter": {
     "outputs_hidden": true
    }
   },
   "outputs": [],
   "source": []
  }
 ],
 "metadata": {
  "kernelspec": {
   "display_name": "Python 3",
   "language": "python",
   "name": "python3"
  },
  "language_info": {
   "codemirror_mode": {
    "name": "ipython",
    "version": 3
   },
   "file_extension": ".py",
   "mimetype": "text/x-python",
   "name": "python",
   "nbconvert_exporter": "python",
   "pygments_lexer": "ipython3",
   "version": "3.8.5"
  }
 },
 "nbformat": 4,
 "nbformat_minor": 4
}
